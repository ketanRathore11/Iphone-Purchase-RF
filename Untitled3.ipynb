{
  "nbformat": 4,
  "nbformat_minor": 0,
  "metadata": {
    "colab": {
      "name": "Untitled3.ipynb",
      "provenance": [],
      "authorship_tag": "ABX9TyMJmc1TWuCh+lJ0soToT/2b",
      "include_colab_link": true
    },
    "kernelspec": {
      "name": "python3",
      "display_name": "Python 3"
    }
  },
  "cells": [
    {
      "cell_type": "markdown",
      "metadata": {
        "id": "view-in-github",
        "colab_type": "text"
      },
      "source": [
        "<a href=\"https://colab.research.google.com/github/ketanRathore11/Iphone-Purchase-RF/blob/master/Untitled3.ipynb\" target=\"_parent\"><img src=\"https://colab.research.google.com/assets/colab-badge.svg\" alt=\"Open In Colab\"/></a>"
      ]
    },
    {
      "cell_type": "code",
      "metadata": {
        "id": "doWTHMuVc4ql",
        "colab_type": "code",
        "colab": {}
      },
      "source": [
        "# Step 1 - Load Data\n",
        "import pandas as pd\n",
        "dataset = pd.read_csv(\"iphone_purchase_records.csv\")\n",
        "X = dataset.iloc[:,:-1].values\n",
        "y = dataset.iloc[:, 3].values"
      ],
      "execution_count": 12,
      "outputs": []
    },
    {
      "cell_type": "code",
      "metadata": {
        "id": "XEUkusz2ePA-",
        "colab_type": "code",
        "colab": {}
      },
      "source": [
        "# Step 2 - Convert Gender to number\n",
        "from sklearn.preprocessing import LabelEncoder\n",
        "labelEncoder_gender =  LabelEncoder()\n",
        "X[:,0] = labelEncoder_gender.fit_transform(X[:,0])\n",
        "\n",
        "# Optional - if you want to convert X to float data type\n",
        "import numpy as np\n",
        "X = np.vstack(X[:, :]).astype(np.float)"
      ],
      "execution_count": 13,
      "outputs": []
    },
    {
      "cell_type": "code",
      "metadata": {
        "id": "JFuvS-VMeUiv",
        "colab_type": "code",
        "colab": {}
      },
      "source": [
        "# Step 3 - Split Data\n",
        "from sklearn.model_selection import train_test_split\n",
        "X_train, X_test, y_train, y_test = train_test_split(X, y, test_size=0.25, random_state=0)"
      ],
      "execution_count": 15,
      "outputs": []
    },
    {
      "cell_type": "code",
      "metadata": {
        "id": "Ny6j7OUkeZDv",
        "colab_type": "code",
        "colab": {
          "base_uri": "https://localhost:8080/",
          "height": 153
        },
        "outputId": "9a075ee3-efc2-445c-e0dc-80424395ce84"
      },
      "source": [
        "# Step 4 - Fit Classifier\n",
        "from sklearn.ensemble import RandomForestClassifier\n",
        "classifier = RandomForestClassifier(n_estimators=10, criterion=\"entropy\", random_state=0)\n",
        "classifier.fit(X_train, y_train)"
      ],
      "execution_count": 16,
      "outputs": [
        {
          "output_type": "execute_result",
          "data": {
            "text/plain": [
              "RandomForestClassifier(bootstrap=True, ccp_alpha=0.0, class_weight=None,\n",
              "                       criterion='entropy', max_depth=None, max_features='auto',\n",
              "                       max_leaf_nodes=None, max_samples=None,\n",
              "                       min_impurity_decrease=0.0, min_impurity_split=None,\n",
              "                       min_samples_leaf=1, min_samples_split=2,\n",
              "                       min_weight_fraction_leaf=0.0, n_estimators=10,\n",
              "                       n_jobs=None, oob_score=False, random_state=0, verbose=0,\n",
              "                       warm_start=False)"
            ]
          },
          "metadata": {
            "tags": []
          },
          "execution_count": 16
        }
      ]
    },
    {
      "cell_type": "code",
      "metadata": {
        "id": "nj2p8yL5egic",
        "colab_type": "code",
        "colab": {}
      },
      "source": [
        "# Step 5 - Predict\n",
        "y_pred = classifier.predict(X_test)"
      ],
      "execution_count": 17,
      "outputs": []
    },
    {
      "cell_type": "code",
      "metadata": {
        "id": "ZJ7pOQUOelxN",
        "colab_type": "code",
        "colab": {
          "base_uri": "https://localhost:8080/",
          "height": 102
        },
        "outputId": "4d728b6e-ee7b-4c99-aed4-8f35a78c6f9b"
      },
      "source": [
        "# Step 6 - Evaluate the model performance\n",
        "from sklearn import metrics\n",
        "cm = metrics.confusion_matrix(y_test, y_pred) \n",
        "print(cm)\n",
        "accuracy = metrics.accuracy_score(y_test, y_pred) \n",
        "print(\"Accuracy score:\",accuracy)\n",
        "precision = metrics.precision_score(y_test, y_pred) \n",
        "print(\"Precision score:\",precision)\n",
        "recall = metrics.recall_score(y_test, y_pred) \n",
        "print(\"Recall score:\",recall)"
      ],
      "execution_count": 18,
      "outputs": [
        {
          "output_type": "stream",
          "text": [
            "[[64  4]\n",
            " [ 4 28]]\n",
            "Accuracy score: 0.92\n",
            "Precision score: 0.875\n",
            "Recall score: 0.875\n"
          ],
          "name": "stdout"
        }
      ]
    }
  ]
}